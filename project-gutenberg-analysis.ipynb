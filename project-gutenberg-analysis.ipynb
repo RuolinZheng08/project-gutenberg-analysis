{
 "cells": [
  {
   "cell_type": "markdown",
   "metadata": {},
   "source": [
    "# Project Gutenberg Analysis"
   ]
  },
  {
   "cell_type": "code",
   "execution_count": 1,
   "metadata": {},
   "outputs": [],
   "source": [
    "import re\n",
    "import string\n",
    "import heapq\n",
    "import random\n",
    "from collections import defaultdict"
   ]
  },
  {
   "cell_type": "code",
   "execution_count": 2,
   "metadata": {},
   "outputs": [],
   "source": [
    "with open('alice.txt', 'rt') as f:\n",
    "    alice = f.read()"
   ]
  },
  {
   "cell_type": "code",
   "execution_count": 12,
   "metadata": {},
   "outputs": [],
   "source": [
    "def createWordCounts(text):\n",
    "    word_counts = defaultdict(int)\n",
    "    for line in text.split('\\n'):\n",
    "        words = line.split()\n",
    "        for word in words:\n",
    "            word = word.strip(string.punctuation).lower()\n",
    "            if word == '':\n",
    "                continue\n",
    "            word_counts[word] += 1\n",
    "    return word_counts"
   ]
  },
  {
   "cell_type": "code",
   "execution_count": 13,
   "metadata": {},
   "outputs": [],
   "source": [
    "word_counts = createWordCounts(alice)"
   ]
  },
  {
   "cell_type": "markdown",
   "metadata": {},
   "source": [
    "## Whole-Text Analysis"
   ]
  },
  {
   "cell_type": "markdown",
   "metadata": {},
   "source": [
    "Create a method that will take in a .txt file and return the number of words in the file. This method should be named getTotalNumberOfWords()"
   ]
  },
  {
   "cell_type": "code",
   "execution_count": 15,
   "metadata": {},
   "outputs": [],
   "source": [
    "def getTotalNumberOfWords(word_counts):\n",
    "    return sum(word_counts.values())"
   ]
  },
  {
   "cell_type": "code",
   "execution_count": 16,
   "metadata": {},
   "outputs": [
    {
     "data": {
      "text/plain": [
       "26376"
      ]
     },
     "execution_count": 16,
     "metadata": {},
     "output_type": "execute_result"
    }
   ],
   "source": [
    "getTotalNumberOfWords(word_counts)"
   ]
  },
  {
   "cell_type": "markdown",
   "metadata": {},
   "source": [
    "Create a new method that returns the number of UNIQUE words in the novel. This method should be named getTotalUniqueWords()"
   ]
  },
  {
   "cell_type": "code",
   "execution_count": 17,
   "metadata": {},
   "outputs": [],
   "source": [
    "def getTotalNumberOfWords(word_counts):\n",
    "    return len(word_counts)"
   ]
  },
  {
   "cell_type": "code",
   "execution_count": 18,
   "metadata": {
    "scrolled": true
   },
   "outputs": [
    {
     "data": {
      "text/plain": [
       "2773"
      ]
     },
     "execution_count": 18,
     "metadata": {},
     "output_type": "execute_result"
    }
   ],
   "source": [
    "getTotalNumberOfWords(word_counts)"
   ]
  },
  {
   "cell_type": "markdown",
   "metadata": {},
   "source": [
    "Implement an algorithm that will return the 20 most frequently used words in the novel and the number of times they were used. This method should be named get20MostFrequentWords()"
   ]
  },
  {
   "cell_type": "code",
   "execution_count": 19,
   "metadata": {},
   "outputs": [],
   "source": [
    "def get20MostFrequentWords(word_counts):\n",
    "    negative_counts = [(-count, word) \n",
    "                       for word, count in word_counts.items()]\n",
    "    heapq.heapify(negative_counts)\n",
    "    ret = []\n",
    "    for _ in range(20):\n",
    "        count, word = heapq.heappop(negative_counts)\n",
    "        ret.append((word, -count))\n",
    "    return ret"
   ]
  },
  {
   "cell_type": "code",
   "execution_count": 20,
   "metadata": {},
   "outputs": [
    {
     "data": {
      "text/plain": [
       "[('the', 1629),\n",
       " ('and', 844),\n",
       " ('to', 721),\n",
       " ('a', 627),\n",
       " ('she', 537),\n",
       " ('it', 526),\n",
       " ('of', 508),\n",
       " ('said', 462),\n",
       " ('i', 400),\n",
       " ('alice', 385),\n",
       " ('in', 365),\n",
       " ('you', 360),\n",
       " ('was', 357),\n",
       " ('that', 276),\n",
       " ('as', 262),\n",
       " ('her', 248),\n",
       " ('at', 209),\n",
       " ('on', 193),\n",
       " ('with', 181),\n",
       " ('all', 179)]"
      ]
     },
     "execution_count": 20,
     "metadata": {},
     "output_type": "execute_result"
    }
   ],
   "source": [
    "get20MostFrequentWords(word_counts)"
   ]
  },
  {
   "cell_type": "markdown",
   "metadata": {},
   "source": [
    "Implement a new algorithm that filters the most common 100 English words and then returns the 20 most frequently used words and the number of times they were used. This method should be named get20MostInterestingFrequentWords()"
   ]
  },
  {
   "cell_type": "code",
   "execution_count": 21,
   "metadata": {},
   "outputs": [],
   "source": [
    "def get20MostInterestingFrequentWords(word_counts, words_to_exclude):\n",
    "    negative_counts = [(-count, word) \n",
    "                       for word, count in word_counts.items()\n",
    "                      if not word in words_to_exclude]\n",
    "    heapq.heapify(negative_counts)\n",
    "    ret = []\n",
    "    for _ in range(20):\n",
    "        count, word = heapq.heappop(negative_counts)\n",
    "        ret.append((word, -count))\n",
    "    return ret"
   ]
  },
  {
   "cell_type": "code",
   "execution_count": 22,
   "metadata": {},
   "outputs": [
    {
     "data": {
      "text/plain": [
       "[('alice', 385),\n",
       " ('herself', 83),\n",
       " ('queen', 68),\n",
       " ('into', 67),\n",
       " (\"i'm\", 57),\n",
       " ('its', 57),\n",
       " ('mock', 56),\n",
       " ('turtle', 56),\n",
       " ('gryphon', 55),\n",
       " ('hatter', 55),\n",
       " (\"it's\", 54),\n",
       " ('looked', 45),\n",
       " ('rabbit', 43),\n",
       " ('dormouse', 39),\n",
       " ('duchess', 39),\n",
       " ('mouse', 38),\n",
       " (\"i've\", 34),\n",
       " ('march', 33),\n",
       " (\"that's\", 33),\n",
       " ('hare', 31)]"
      ]
     },
     "execution_count": 22,
     "metadata": {},
     "output_type": "execute_result"
    }
   ],
   "source": [
    "with open('common-english-words.txt') as f:\n",
    "    text = f.read()\n",
    "words_to_exclude = set([word.lower() for word in text.split('\\n')])\n",
    "get20MostInterestingFrequentWords(word_counts, words_to_exclude)"
   ]
  },
  {
   "cell_type": "markdown",
   "metadata": {},
   "source": [
    "Implement a new algorithm that returns the 20 LEAST frequently used words and the number of times they were used. This method should be named get20LeastFrequentWords()"
   ]
  },
  {
   "cell_type": "code",
   "execution_count": 23,
   "metadata": {},
   "outputs": [],
   "source": [
    "def get20LeastFrequentWords(word_counts):\n",
    "    positive_counts = [(count, word) \n",
    "                       for word, count in word_counts.items()]\n",
    "    heapq.heapify(positive_counts)\n",
    "    ret = []\n",
    "    for _ in range(20):\n",
    "        count, word = heapq.heappop(positive_counts)\n",
    "        ret.append((word, count))\n",
    "    return ret"
   ]
  },
  {
   "cell_type": "code",
   "execution_count": 24,
   "metadata": {},
   "outputs": [
    {
     "data": {
      "text/plain": [
       "[(\"a--i'm\", 1),\n",
       " ('a-piece', 1),\n",
       " ('abide', 1),\n",
       " ('able', 1),\n",
       " ('absence', 1),\n",
       " ('acceptance', 1),\n",
       " ('accidentally', 1),\n",
       " ('account', 1),\n",
       " ('accounting', 1),\n",
       " ('accounts', 1),\n",
       " ('accusation', 1),\n",
       " ('accustomed', 1),\n",
       " ('ache', 1),\n",
       " ('act', 1),\n",
       " ('actually', 1),\n",
       " ('ada', 1),\n",
       " ('adding', 1),\n",
       " ('addressing', 1),\n",
       " ('adjourn', 1),\n",
       " ('adoption', 1)]"
      ]
     },
     "execution_count": 24,
     "metadata": {},
     "output_type": "execute_result"
    }
   ],
   "source": [
    "get20LeastFrequentWords(word_counts)"
   ]
  },
  {
   "cell_type": "markdown",
   "metadata": {},
   "source": [
    "## Chapter-by-Chapter Analysis"
   ]
  },
  {
   "cell_type": "code",
   "execution_count": 42,
   "metadata": {},
   "outputs": [],
   "source": [
    "chapters = re.split(r'CHAPTER \\w+\\.', alice)[1:]\n",
    "chapters = [re.sub(r'\\n', ' ', chapter) for chapter in chapters]\n",
    "chapter_freqs = {}\n",
    "for i, chapter in enumerate(chapters):\n",
    "    chapter_freqs[i] = createWordCounts(chapter)"
   ]
  },
  {
   "cell_type": "markdown",
   "metadata": {},
   "source": [
    "Implement a method that can take in a word and return an array of the number of the times the word was used in each chapter. This method should be named getFrequencyOfWord()"
   ]
  },
  {
   "cell_type": "code",
   "execution_count": 43,
   "metadata": {},
   "outputs": [],
   "source": [
    "def getFrequencyOfWord(word, chapter_freqs):\n",
    "    ret = []\n",
    "    for chapter in chapter_freqs:\n",
    "        ret.append(chapter_freqs[chapter][word])\n",
    "    return ret"
   ]
  },
  {
   "cell_type": "code",
   "execution_count": 44,
   "metadata": {
    "scrolled": true
   },
   "outputs": [
    {
     "data": {
      "text/plain": [
       "[27, 24, 23, 30, 35, 43, 50, 39, 47, 29, 16, 22]"
      ]
     },
     "execution_count": 44,
     "metadata": {},
     "output_type": "execute_result"
    }
   ],
   "source": [
    "getFrequencyOfWord('alice', chapter_freqs)"
   ]
  },
  {
   "cell_type": "code",
   "execution_count": 45,
   "metadata": {},
   "outputs": [],
   "source": [
    "assert sum(getFrequencyOfWord('alice', chapter_freqs)) == word_counts['alice']"
   ]
  },
  {
   "cell_type": "markdown",
   "metadata": {},
   "source": [
    "Implement a way for us to find out what chapter a certain quote from the book can be found in. Your method take in a string (the quote) and return a number (the chapter number) and be named getChapterQuoteAppears() . If the quote cannot be found in the book, your method should return -1."
   ]
  },
  {
   "cell_type": "code",
   "execution_count": 46,
   "metadata": {},
   "outputs": [],
   "source": [
    "def getChapterQuoteAppears(quote, chapters):\n",
    "    pat = re.compile(quote)\n",
    "    for i, chapter in enumerate(chapters):\n",
    "        if re.findall(pat, chapter):\n",
    "            return i + 1\n",
    "    return -1"
   ]
  },
  {
   "cell_type": "code",
   "execution_count": 48,
   "metadata": {},
   "outputs": [
    {
     "data": {
      "text/plain": [
       "2"
      ]
     },
     "execution_count": 48,
     "metadata": {},
     "output_type": "execute_result"
    }
   ],
   "source": [
    "getChapterQuoteAppears('The Rabbit started violently, dropped the white kid gloves and the fan, and skurried away into the darkness as hard as he could go.', chapters)"
   ]
  },
  {
   "cell_type": "markdown",
   "metadata": {},
   "source": [
    "Write a sentence in the author’s voice by implementing a method named generateSentence()\n"
   ]
  },
  {
   "cell_type": "code",
   "execution_count": 120,
   "metadata": {},
   "outputs": [],
   "source": [
    "def getRandomNextWord(word, text):\n",
    "    next_words = re.findall(re.compile(word + ' (\\S+)', re.IGNORECASE), text)\n",
    "    next_words = [word.lower().strip(string.punctuation)\n",
    "                  for word in next_words]\n",
    "    if not next_words:\n",
    "        return 'the'\n",
    "    return random.choice(next_words)"
   ]
  },
  {
   "cell_type": "code",
   "execution_count": 121,
   "metadata": {},
   "outputs": [],
   "source": [
    "def generateSentence(text):\n",
    "    word = 'The'\n",
    "    sentence = [word]\n",
    "    for _ in range(19):\n",
    "        next_word = getRandomNextWord(word, text)\n",
    "        sentence.append(next_word)\n",
    "        word = next_word\n",
    "    return ' '.join(sentence) + '.'"
   ]
  },
  {
   "cell_type": "code",
   "execution_count": 133,
   "metadata": {},
   "outputs": [
    {
     "data": {
      "text/plain": [
       "'The royal children digging her head down their names were the reason of her than ever eat hurry that she.'"
      ]
     },
     "execution_count": 133,
     "metadata": {},
     "output_type": "execute_result"
    }
   ],
   "source": [
    "generateSentence(alice)"
   ]
  },
  {
   "cell_type": "markdown",
   "metadata": {},
   "source": [
    "###  Sentence Completion / Prediction with Tries (OPTIONAL)\n",
    "We want to create a simple autocomplete-like feature where we can input one or more words, and be returned a list of all sentences that can start with our input. Implement a method List String \n",
    "getAutocompleteSentence(String startOfSentence) that takes in a string, and returns a list of strings that start with the input s."
   ]
  },
  {
   "cell_type": "code",
   "execution_count": null,
   "metadata": {},
   "outputs": [],
   "source": []
  },
  {
   "cell_type": "markdown",
   "metadata": {},
   "source": [
    "### Finding closest match (OPTIONAL)\n",
    "For this challenge, your task is to implement a method defined as String findClosestMatchingQuote(String s). This method will take in a quote, and be able to return the chapter this quote is found in. The catch is that the method could take in a misquoted quote , but still be able to find it."
   ]
  },
  {
   "cell_type": "code",
   "execution_count": null,
   "metadata": {},
   "outputs": [],
   "source": []
  }
 ],
 "metadata": {
  "kernelspec": {
   "display_name": "Python 3",
   "language": "python",
   "name": "python3"
  },
  "language_info": {
   "codemirror_mode": {
    "name": "ipython",
    "version": 3
   },
   "file_extension": ".py",
   "mimetype": "text/x-python",
   "name": "python",
   "nbconvert_exporter": "python",
   "pygments_lexer": "ipython3",
   "version": "3.8.0"
  }
 },
 "nbformat": 4,
 "nbformat_minor": 2
}
