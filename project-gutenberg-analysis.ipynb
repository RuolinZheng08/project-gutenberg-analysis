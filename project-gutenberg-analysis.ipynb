{
 "cells": [
  {
   "cell_type": "markdown",
   "metadata": {},
   "source": [
    "# Project Gutenberg Analysis"
   ]
  },
  {
   "cell_type": "code",
   "execution_count": 96,
   "metadata": {},
   "outputs": [],
   "source": [
    "import string\n",
    "import heapq\n",
    "from collections import defaultdict"
   ]
  },
  {
   "cell_type": "code",
   "execution_count": 97,
   "metadata": {},
   "outputs": [],
   "source": [
    "with open('alice.txt', 'rt') as f:\n",
    "    alice = f.readlines()"
   ]
  },
  {
   "cell_type": "code",
   "execution_count": 105,
   "metadata": {},
   "outputs": [],
   "source": [
    "word_counts = defaultdict(int)\n",
    "for line in alice:\n",
    "    words = line.split()\n",
    "    for word in words:\n",
    "        word = word.strip(string.punctuation).lower()\n",
    "        if word == '':\n",
    "            continue\n",
    "        word_counts[word] += 1"
   ]
  },
  {
   "cell_type": "markdown",
   "metadata": {},
   "source": [
    "## Whole-Text Analysis"
   ]
  },
  {
   "cell_type": "markdown",
   "metadata": {},
   "source": [
    "Create a method that will take in a .txt file and return the number of words in the file. This method should be named getTotalNumberOfWords()"
   ]
  },
  {
   "cell_type": "code",
   "execution_count": 106,
   "metadata": {},
   "outputs": [],
   "source": [
    "def getTotalNumberOfWords(word_counts):\n",
    "    return sum(word_counts.values())"
   ]
  },
  {
   "cell_type": "code",
   "execution_count": 107,
   "metadata": {},
   "outputs": [
    {
     "data": {
      "text/plain": [
       "26376"
      ]
     },
     "execution_count": 107,
     "metadata": {},
     "output_type": "execute_result"
    }
   ],
   "source": [
    "getTotalNumberOfWords(word_counts)"
   ]
  },
  {
   "cell_type": "markdown",
   "metadata": {},
   "source": [
    "Create a new method that returns the number of UNIQUE words in the novel. This method should be named getTotalUniqueWords()"
   ]
  },
  {
   "cell_type": "code",
   "execution_count": 108,
   "metadata": {},
   "outputs": [],
   "source": [
    "def getTotalNumberOfWords(word_counts):\n",
    "    return len(word_counts)"
   ]
  },
  {
   "cell_type": "code",
   "execution_count": 109,
   "metadata": {
    "scrolled": true
   },
   "outputs": [
    {
     "data": {
      "text/plain": [
       "2773"
      ]
     },
     "execution_count": 109,
     "metadata": {},
     "output_type": "execute_result"
    }
   ],
   "source": [
    "getTotalNumberOfWords(word_counts)"
   ]
  },
  {
   "cell_type": "markdown",
   "metadata": {},
   "source": [
    "Implement an algorithm that will return the 20 most frequently used words in the novel and the number of times they were used. This method should be named get20MostFrequentWords()"
   ]
  },
  {
   "cell_type": "code",
   "execution_count": 114,
   "metadata": {},
   "outputs": [],
   "source": [
    "def get20MostFrequentWords(word_counts):\n",
    "    negative_counts = [(-count, word) \n",
    "                       for word, count in word_counts.items()]\n",
    "    heapq.heapify(negative_counts)\n",
    "    ret = []\n",
    "    for _ in range(20):\n",
    "        count, word = heapq.heappop(negative_counts)\n",
    "        ret.append((word, -count))\n",
    "    return ret"
   ]
  },
  {
   "cell_type": "code",
   "execution_count": 115,
   "metadata": {
    "collapsed": true
   },
   "outputs": [
    {
     "data": {
      "text/plain": [
       "[('the', 1629),\n",
       " ('and', 844),\n",
       " ('to', 721),\n",
       " ('a', 627),\n",
       " ('she', 537),\n",
       " ('it', 526),\n",
       " ('of', 508),\n",
       " ('said', 462),\n",
       " ('i', 400),\n",
       " ('alice', 385),\n",
       " ('in', 365),\n",
       " ('you', 360),\n",
       " ('was', 357),\n",
       " ('that', 276),\n",
       " ('as', 262),\n",
       " ('her', 248),\n",
       " ('at', 209),\n",
       " ('on', 193),\n",
       " ('with', 181),\n",
       " ('all', 179)]"
      ]
     },
     "execution_count": 115,
     "metadata": {},
     "output_type": "execute_result"
    }
   ],
   "source": [
    "get20MostFrequentWords(word_counts)"
   ]
  },
  {
   "cell_type": "markdown",
   "metadata": {},
   "source": [
    "Implement a new algorithm that filters the most common 100 English words and then returns the 20 most frequently used words and the number of times they were used. This method should be named get20MostInterestingFrequentWords()"
   ]
  },
  {
   "cell_type": "code",
   "execution_count": 116,
   "metadata": {},
   "outputs": [],
   "source": [
    "def get20MostInterestingFrequentWords(word_counts, words_to_exclude):\n",
    "    negative_counts = [(-count, word) \n",
    "                       for word, count in word_counts.items()\n",
    "                      if not word in words_to_exclude]\n",
    "    heapq.heapify(negative_counts)\n",
    "    ret = []\n",
    "    for _ in range(20):\n",
    "        count, word = heapq.heappop(negative_counts)\n",
    "        ret.append((word, -count))\n",
    "    return ret"
   ]
  },
  {
   "cell_type": "code",
   "execution_count": 123,
   "metadata": {},
   "outputs": [
    {
     "data": {
      "text/plain": [
       "[('alice', 385),\n",
       " ('herself', 83),\n",
       " ('queen', 68),\n",
       " ('into', 67),\n",
       " (\"i'm\", 57),\n",
       " ('its', 57),\n",
       " ('mock', 56),\n",
       " ('turtle', 56),\n",
       " ('gryphon', 55),\n",
       " ('hatter', 55),\n",
       " (\"it's\", 54),\n",
       " ('looked', 45),\n",
       " ('rabbit', 43),\n",
       " ('dormouse', 39),\n",
       " ('duchess', 39),\n",
       " ('mouse', 38),\n",
       " (\"i've\", 34),\n",
       " ('march', 33),\n",
       " (\"that's\", 33),\n",
       " ('hare', 31)]"
      ]
     },
     "execution_count": 123,
     "metadata": {},
     "output_type": "execute_result"
    }
   ],
   "source": [
    "with open('common-english-words.txt') as f:\n",
    "    text = f.read()\n",
    "words_to_exclude = set([word.lower() for word in text.split('\\n')])\n",
    "get20MostInterestingFrequentWords(word_counts, words_to_exclude)"
   ]
  },
  {
   "cell_type": "markdown",
   "metadata": {},
   "source": [
    "Implement a new algorithm that returns the 20 LEAST frequently used words and the number of times they were used. This method should be named get20LeastFrequentWords()"
   ]
  },
  {
   "cell_type": "code",
   "execution_count": 124,
   "metadata": {},
   "outputs": [],
   "source": [
    "def get20LeastFrequentWords(word_counts):\n",
    "    positive_counts = [(count, word) \n",
    "                       for word, count in word_counts.items()]\n",
    "    heapq.heapify(positive_counts)\n",
    "    ret = []\n",
    "    for _ in range(20):\n",
    "        count, word = heapq.heappop(positive_counts)\n",
    "        ret.append((word, count))\n",
    "    return ret"
   ]
  },
  {
   "cell_type": "code",
   "execution_count": 125,
   "metadata": {},
   "outputs": [
    {
     "data": {
      "text/plain": [
       "[(\"a--i'm\", 1),\n",
       " ('a-piece', 1),\n",
       " ('abide', 1),\n",
       " ('able', 1),\n",
       " ('absence', 1),\n",
       " ('acceptance', 1),\n",
       " ('accidentally', 1),\n",
       " ('account', 1),\n",
       " ('accounting', 1),\n",
       " ('accounts', 1),\n",
       " ('accusation', 1),\n",
       " ('accustomed', 1),\n",
       " ('ache', 1),\n",
       " ('act', 1),\n",
       " ('actually', 1),\n",
       " ('ada', 1),\n",
       " ('adding', 1),\n",
       " ('addressing', 1),\n",
       " ('adjourn', 1),\n",
       " ('adoption', 1)]"
      ]
     },
     "execution_count": 125,
     "metadata": {},
     "output_type": "execute_result"
    }
   ],
   "source": [
    "get20LeastFrequentWords(word_counts)"
   ]
  },
  {
   "cell_type": "markdown",
   "metadata": {},
   "source": [
    "## Chapter-by-Chapter Analysis"
   ]
  },
  {
   "cell_type": "code",
   "execution_count": null,
   "metadata": {},
   "outputs": [],
   "source": []
  }
 ],
 "metadata": {
  "kernelspec": {
   "display_name": "Python 3",
   "language": "python",
   "name": "python3"
  },
  "language_info": {
   "codemirror_mode": {
    "name": "ipython",
    "version": 3
   },
   "file_extension": ".py",
   "mimetype": "text/x-python",
   "name": "python",
   "nbconvert_exporter": "python",
   "pygments_lexer": "ipython3",
   "version": "3.8.0"
  }
 },
 "nbformat": 4,
 "nbformat_minor": 2
}
